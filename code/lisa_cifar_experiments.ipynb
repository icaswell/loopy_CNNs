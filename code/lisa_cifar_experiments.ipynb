{
 "cells": [
  {
   "cell_type": "markdown",
   "metadata": {},
   "source": [
    "## Lisa's Notebook for CIFAR experiments"
   ]
  },
  {
   "cell_type": "code",
   "execution_count": 1,
   "metadata": {
    "collapsed": true
   },
   "outputs": [],
   "source": [
    "import os, struct\n",
    "from array import array as pyarray\n",
    "from numpy import append, array, int8, uint8, zeros\n",
    "import numpy as np\n",
    "from data_utils import load_cifar10\n",
    "from loopy_network_lasagne import LoopyNetwork\n",
    "import util "
   ]
  },
  {
   "cell_type": "code",
   "execution_count": 2,
   "metadata": {
    "collapsed": false
   },
   "outputs": [
    {
     "name": "stdout",
     "output_type": "stream",
     "text": [
      "(49000, 3, 32, 32) (49000,)\n",
      "(1000, 3, 32, 32) (1000,)\n"
     ]
    }
   ],
   "source": [
    "X_train, y_train, X_val, y_val, X_test, y_test = load_cifar10()\n",
    "\n",
    "print X_train.shape, y_train.shape\n",
    "print X_test.shape, y_test.shape"
   ]
  },
  {
   "cell_type": "code",
   "execution_count": 5,
   "metadata": {
    "collapsed": false
   },
   "outputs": [
    {
     "name": "stdout",
     "output_type": "stream",
     "text": [
      "Good job.  You have followed directions.  Asserter passes.\n",
      "\u001b[45mALN> \u001b[0m \u001b[94m[pre-loop] adding layer conv_1 with input input\u001b[0m \n",
      "{'nonlinearity': <function rectify at 0x10b3c69b0>, 'filter_size': 5, 'pad': 2, 'W': <lasagne.init.GlorotUniform object at 0x114a282d0>, 'num_filters': 64}\n",
      "\u001b[45mALN> \u001b[0m \u001b[94m[pre-loop] adding layer pool_l with input conv_1\u001b[0m \n",
      "\u001b[45mALN> \u001b[0m \u001b[45mloop outputs: \u001b[0m \n",
      "\u001b[45mALN> \u001b[0m \u001b[91m[repeating section] adding layer conv_2_unroll=0 with input pool_l\u001b[0m \n",
      "{'nonlinearity': <function rectify at 0x10b3c69b0>, 'filter_size': 3, 'pad': 1, 'W': <lasagne.init.GlorotUniform object at 0x114a28590>, 'num_filters': 64}\n",
      "\u001b[45mALN> \u001b[0m \u001b[91m[repeating section] adding layer conv_3_unroll=0 with input conv_2_unroll=0\u001b[0m \n",
      "{'nonlinearity': <function rectify at 0x10b3c69b0>, 'filter_size': 3, 'pad': 1, 'W': <lasagne.init.GlorotUniform object at 0x114a28b50>, 'num_filters': 64}\n",
      "\u001b[45mALN> \u001b[0m \u001b[91m[repeating section] adding layer conv_4_unroll=0 with input conv_3_unroll=0\u001b[0m \n",
      "{'nonlinearity': <function rectify at 0x10b3c69b0>, 'filter_size': 3, 'pad': 1, 'W': <lasagne.init.GlorotUniform object at 0x114a67110>, 'num_filters': 64}\n",
      "\u001b[45mALN> \u001b[0m \u001b[91m[repeating section] adding layer conv_5_unroll=0 with input conv_4_unroll=0\u001b[0m \n",
      "{'nonlinearity': <function rectify at 0x10b3c69b0>, 'filter_size': 3, 'pad': 1, 'W': <lasagne.init.GlorotUniform object at 0x114a67690>, 'num_filters': 64}\n",
      "\u001b[45mALN> \u001b[0m \u001b[91m[repeating section] adding layer conv_6_unroll=0 with input conv_5_unroll=0\u001b[0m \n",
      "{'nonlinearity': <function rectify at 0x10b3c69b0>, 'filter_size': 3, 'pad': 1, 'W': <lasagne.init.GlorotUniform object at 0x114a67c10>, 'num_filters': 64}\n",
      "\u001b[45mALN> \u001b[0m \u001b[91m[repeating section] adding layer conv_7_unroll=0 with input conv_6_unroll=0\u001b[0m \n",
      "{'nonlinearity': <function rectify at 0x10b3c69b0>, 'filter_size': 3, 'pad': 1, 'W': <lasagne.init.GlorotUniform object at 0x114a431d0>, 'num_filters': 64}\n",
      "\u001b[45mALN> \u001b[0m \u001b[91madding loop:\u001b[0m \n",
      "\u001b[45mALN> \u001b[0m \u001b[45m[in loop] adding layer loop_layer_2 with input conv_7_unroll=0, sharing parameters with None\u001b[0m \n",
      "{'num_filters': 64,\n",
      " 'options': {'W': 'glorot_uniform',\n",
      "             'filter_size': 3,\n",
      "             'nonlinearity': 'relu',\n",
      "             'num_filters': 64,\n",
      "             'pad': 1},\n",
      " 'template': 'conv3',\n",
      " 'type': 'conv2d'}\n",
      "{'nonlinearity': <function rectify at 0x10b3c69b0>, 'filter_size': 3, 'pad': 1, 'W': <lasagne.init.GlorotUniform object at 0x114a43a90>, 'num_filters': 64}\n",
      "\u001b[45mALN> \u001b[0m \u001b[91madding loop:\u001b[0m \n",
      "\u001b[45mALN> \u001b[0m \u001b[45m[in loop] adding layer loop_layer_1 with input conv_4_unroll=0, sharing parameters with None\u001b[0m \n",
      "{'num_filters': 64,\n",
      " 'options': {'W': 'glorot_uniform',\n",
      "             'filter_size': 3,\n",
      "             'nonlinearity': 'relu',\n",
      "             'num_filters': 64,\n",
      "             'pad': 1},\n",
      " 'template': 'conv3',\n",
      " 'type': 'conv2d'}\n",
      "{'nonlinearity': <function rectify at 0x10b3c69b0>, 'filter_size': 3, 'pad': 1, 'W': <lasagne.init.GlorotUniform object at 0x114a43e10>, 'num_filters': 64}\n",
      "\u001b[45mALN> \u001b[0m \u001b[45mloop outputs: ('conv_5', ('loop_layer_2_unroll=0', 'sum')), ('conv_2', ('loop_layer_1_unroll=0', 'sum'))\u001b[0m \n",
      "\u001b[45mALN> \u001b[0m \u001b[91m[repeating section] adding layer conv_2_unroll=1 with input ['pool_l', 'loop_layer_1_unroll=0']\u001b[0m \n",
      "{'b': conv_2_unroll=0.b, 'nonlinearity': <function rectify at 0x10b3c69b0>, 'filter_size': 3, 'pad': 1, 'W': conv_2_unroll=0.W, 'num_filters': 64}\n",
      "\u001b[45mALN> \u001b[0m \u001b[91m[repeating section] adding layer conv_3_unroll=1 with input conv_2_unroll=1\u001b[0m \n",
      "{'b': conv_3_unroll=0.b, 'nonlinearity': <function rectify at 0x10b3c69b0>, 'filter_size': 3, 'pad': 1, 'W': conv_3_unroll=0.W, 'num_filters': 64}\n",
      "\u001b[45mALN> \u001b[0m \u001b[91m[repeating section] adding layer conv_4_unroll=1 with input conv_3_unroll=1\u001b[0m \n",
      "{'b': conv_4_unroll=0.b, 'nonlinearity': <function rectify at 0x10b3c69b0>, 'filter_size': 3, 'pad': 1, 'W': conv_4_unroll=0.W, 'num_filters': 64}\n",
      "\u001b[45mALN> \u001b[0m \u001b[91m[repeating section] adding layer conv_5_unroll=1 with input ['conv_4_unroll=1', 'loop_layer_2_unroll=0']\u001b[0m \n",
      "{'b': conv_5_unroll=0.b, 'nonlinearity': <function rectify at 0x10b3c69b0>, 'filter_size': 3, 'pad': 1, 'W': conv_5_unroll=0.W, 'num_filters': 64}\n",
      "\u001b[45mALN> \u001b[0m \u001b[91m[repeating section] adding layer conv_6_unroll=1 with input conv_5_unroll=1\u001b[0m \n",
      "{'b': conv_6_unroll=0.b, 'nonlinearity': <function rectify at 0x10b3c69b0>, 'filter_size': 3, 'pad': 1, 'W': conv_6_unroll=0.W, 'num_filters': 64}\n",
      "\u001b[45mALN> \u001b[0m \u001b[91m[repeating section] adding layer conv_7_unroll=1 with input conv_6_unroll=1\u001b[0m \n",
      "{'b': conv_7_unroll=0.b, 'nonlinearity': <function rectify at 0x10b3c69b0>, 'filter_size': 3, 'pad': 1, 'W': conv_7_unroll=0.W, 'num_filters': 64}\n",
      "\u001b[45mALN> \u001b[0m \u001b[94m[after repeating section] adding layer fc_1 with input conv_7_unroll=1\u001b[0m \n",
      "\u001b[45mALN> \u001b[0m \u001b[45mmarking layer fc_1 as output\u001b[0m \n",
      "\u001b[91mModel has 467978 total parameters\u001b[0m \n",
      "LoopyCNN instance with the following hyperparameters, layers and loops:\u001b[95m\n",
      "HYPERPARAMETERS:\u001b[0m\n",
      "\tn_unrolls=2\n",
      "\tuse_batchnorm=True\u001b[95m\n",
      "\n",
      "ARCHITECTURE:\u001b[0m\n",
      "main_stack:\n",
      "\t\u001b[93minput [input layer; output_dim=(3, 32, 32)]\u001b[0m\n",
      "\t\u001b[96mconv_1 [conv2d layer; num_filters=64]\u001b[0m\n",
      "\t\u001b[92mpool_l [pooling layer]\u001b[0m\n",
      "\t\u001b[96mconv_2 [conv2d layer; num_filters=64]\u001b[0m\n",
      "\t\u001b[96mconv_3 [conv2d layer; num_filters=64]\u001b[0m\n",
      "\t\u001b[96mconv_4 [conv2d layer; num_filters=64]\u001b[0m\n",
      "\t\u001b[96mconv_5 [conv2d layer; num_filters=64]\u001b[0m\n",
      "\t\u001b[96mconv_6 [conv2d layer; num_filters=64]\u001b[0m\n",
      "\t\u001b[96mconv_7 [conv2d layer; num_filters=64]\u001b[0m\n",
      "\t\u001b[97mfc_1 [dense layer; output_dim=10]\u001b[0m\n",
      "loop-2:\n",
      "\t\u001b[96mconv_7 [conv2d layer; num_filters=64]\u001b[0m\n",
      "\t\u001b[96mloop_layer_2 [conv2d layer; num_filters=64]\u001b[0m\n",
      "\t\u001b[96mconv_5 [conv2d layer; num_filters=64]\u001b[0m\n",
      "loop-1:\n",
      "\t\u001b[96mconv_4 [conv2d layer; num_filters=64]\u001b[0m\n",
      "\t\u001b[96mloop_layer_1 [conv2d layer; num_filters=64]\u001b[0m\n",
      "\t\u001b[96mconv_2 [conv2d layer; num_filters=64]\u001b[0m\n"
     ]
    }
   ],
   "source": [
    "ARCH_NAME = \"cifar_c5-64_pool2_c3-64_c3-64_c3-64_c3-64_c3-64_c3-64_fc\"\n",
    "model = LoopyNetwork(architecture_fpath=\"../architectures/cifar_resnet_inspired.py\", n_unrolls=2)\n",
    "print repr(model)"
   ]
  },
  {
   "cell_type": "code",
   "execution_count": null,
   "metadata": {
    "collapsed": false
   },
   "outputs": [
    {
     "name": "stdout",
     "output_type": "stream",
     "text": [
      "*------------------------------------------------------------------------------*\n",
      "Epoch 0, batch 0:\n",
      "batchly_train_loss:  2.49495348179\n",
      "cumulative_train_loss:  inf\n",
      "*------------------------------------------------------------------------------*\n",
      "Epoch 0, batch 1:\n",
      "batchly_train_loss:  1.4797131861\n",
      "cumulative_train_loss:  3.97465666789\n",
      "*------------------------------------------------------------------------------*\n",
      "Epoch 0, batch 2:\n",
      "batchly_train_loss:  0.1555443602\n",
      "cumulative_train_loss:  2.06510051405\n",
      "*------------------------------------------------------------------------------*\n",
      "Epoch 0, batch 3:\n",
      "batchly_train_loss:  0.108027041246\n",
      "cumulative_train_loss:  1.41274268978\n",
      "*------------------------------------------------------------------------------*\n",
      "Epoch 0, batch 4:\n",
      "batchly_train_loss:  0.118586256295\n",
      "cumulative_train_loss:  1.08920358141\n",
      "*------------------------------------------------------------------------------*\n",
      "Epoch 0, batch 5:\n",
      "batchly_train_loss:  0.133290585395\n",
      "cumulative_train_loss:  0.898020982205\n",
      "*------------------------------------------------------------------------------*\n",
      "Epoch 0, batch 6:\n",
      "batchly_train_loss:  0.220901015791\n",
      "cumulative_train_loss:  0.78516765447\n",
      "*------------------------------------------------------------------------------*\n",
      "Epoch 0, batch 7:\n",
      "batchly_train_loss:  0.355526722086\n",
      "cumulative_train_loss:  0.723790378415\n",
      "*------------------------------------------------------------------------------*\n",
      "Epoch 0, batch 8:\n",
      "batchly_train_loss:  0.188018652004\n",
      "cumulative_train_loss:  0.656818912613\n",
      "*------------------------------------------------------------------------------*\n",
      "Epoch 0, batch 9:\n",
      "batchly_train_loss:  0.221683061787\n",
      "cumulative_train_loss:  0.608470484744\n",
      "*------------------------------------------------------------------------------*"
     ]
    }
   ],
   "source": [
    "check_error_n_batches = 1\n",
    "        \n",
    "history = model.train_model(X_train, y_train, X_test, y_test, \n",
    "\t\t\t\t\t\tbatchsize=32,\n",
    "\t\t\t\t\t\tn_epochs=8,\n",
    "\t\t\t\t\t\tuse_expensive_stats=False,\n",
    "\t\t\t\t\t    check_error_n_batches=check_error_n_batches)\n",
    "print history\n"
   ]
  },
  {
   "cell_type": "code",
   "execution_count": null,
   "metadata": {
    "collapsed": true
   },
   "outputs": [],
   "source": [
    "util.plot_loss_acc(history[\"full_train_loss\"], history[\"full_train_acc\"], history[\"valid_acc\"], \"batches*%s\"%check_error_n_batches, attributes={\"isaac\": np.random.rand()})"
   ]
  },
  {
   "cell_type": "code",
   "execution_count": null,
   "metadata": {
    "collapsed": true
   },
   "outputs": [],
   "source": []
  },
  {
   "cell_type": "code",
   "execution_count": null,
   "metadata": {
    "collapsed": true
   },
   "outputs": [],
   "source": []
  }
 ],
 "metadata": {
  "kernelspec": {
   "display_name": "Python 2",
   "language": "python",
   "name": "python2"
  },
  "language_info": {
   "codemirror_mode": {
    "name": "ipython",
    "version": 2
   },
   "file_extension": ".py",
   "mimetype": "text/x-python",
   "name": "python",
   "nbconvert_exporter": "python",
   "pygments_lexer": "ipython2",
   "version": "2.7.11"
  }
 },
 "nbformat": 4,
 "nbformat_minor": 0
}
